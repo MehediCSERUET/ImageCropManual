{
 "cells": [
  {
   "cell_type": "code",
   "execution_count": 22,
   "metadata": {},
   "outputs": [
    {
     "name": "stdout",
     "output_type": "stream",
     "text": [
      "Insert output folder path: D:\\MSc\\Our Dataset\\Data for Research\\OUTPUT\\MH\n",
      "Insert input folder path: D:\\MSc\\Our Dataset\\Data for Research\\OUTPUT\\1_output\n",
      "D:\\MSc\\Our Dataset\\Data for Research\\OUTPUT\\MH\\17_03_2021_16_33_11.png\n",
      "D:\\MSc\\Our Dataset\\Data for Research\\OUTPUT\\MH\\17_03_2021_16_33_14.png\n"
     ]
    }
   ],
   "source": [
    "import cv2\n",
    "import imutils\n",
    "import os\n",
    "from datetime import datetime\n",
    "\n",
    "refPt = []\n",
    "cropping = False\n",
    "\n",
    "def click_crop(event, x, y, flags, param):\n",
    "    global refPt, cropping, clone, output_folder\n",
    "    if event == cv2.EVENT_LBUTTONDOWN:\n",
    "        refPt = [(x, y)]\n",
    "        cropping = True\n",
    "\n",
    "    if event == cv2.EVENT_LBUTTONUP:\n",
    "        refPt.append((x, y))\n",
    "        cropping = False\n",
    "        cv2.rectangle(rescaled_image, refPt[0], refPt[1], (0, 255, 0), 2)\n",
    "        now = datetime.now()\n",
    "        dt_string = now.strftime(\"%d_%m_%Y_%H_%M_%S\")\n",
    "        roi = clone[int(refPt[0][1]*ratio):int(refPt[1][1]*ratio), int(refPt[0][0]*ratio):int(refPt[1][0]*ratio)]\n",
    "        print(os.path.join(output_folder, dt_string)+'.png')\n",
    "        cv2.imwrite(os.path.join(output_folder, dt_string)+'.png', roi) \n",
    "\n",
    "if __name__ == \"__main__\":\n",
    "    windowName = 'Click and Crop'\n",
    "    RESCALED_HEIGHT = 700.0 \n",
    "    \n",
    "    output_folder = input(\"Insert output folder path: \")\n",
    "    if not os.path.exists(output_folder):\n",
    "        os.mkdir(output_folder)\n",
    "    \n",
    "    input_folder = input(\"Insert input folder path: \")\n",
    "    flag = True\n",
    "    for file in os.listdir(input_folder):\n",
    "        img = cv2.imread(os.path.join(input_folder, file), cv2.IMREAD_COLOR)\n",
    "        clone = img.copy()\n",
    "\n",
    "        ratio = img.shape[0] / RESCALED_HEIGHT\n",
    "        rescaled_image = imutils.resize(img, height = int(RESCALED_HEIGHT))\n",
    "\n",
    "        cv2.namedWindow(windowName)\n",
    "\n",
    "        cv2.setMouseCallback(windowName, click_crop)\n",
    "\n",
    "        while True:\n",
    "            cv2.imshow(windowName, rescaled_image)\n",
    "            key = cv2.waitKey(1)\n",
    "            if key == ord(\"q\") or key == ord(\"Q\"):\n",
    "                cv2.destroyAllWindows()\n",
    "                flag=False\n",
    "                break\n",
    "        if flag==False:\n",
    "            break"
   ]
  },
  {
   "cell_type": "code",
   "execution_count": null,
   "metadata": {},
   "outputs": [],
   "source": []
  }
 ],
 "metadata": {
  "kernelspec": {
   "display_name": "Python 3",
   "language": "python",
   "name": "python3"
  },
  "language_info": {
   "codemirror_mode": {
    "name": "ipython",
    "version": 3
   },
   "file_extension": ".py",
   "mimetype": "text/x-python",
   "name": "python",
   "nbconvert_exporter": "python",
   "pygments_lexer": "ipython3",
   "version": "3.8.5"
  }
 },
 "nbformat": 4,
 "nbformat_minor": 2
}
